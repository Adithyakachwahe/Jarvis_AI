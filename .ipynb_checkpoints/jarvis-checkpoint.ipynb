{
 "cells": [
  {
   "cell_type": "code",
   "execution_count": null,
   "metadata": {},
   "outputs": [],
   "source": [
    "import pyttsx3\n",
    "import datetime\n",
    "import speech_recognition as sr\n",
    "\n",
    "engine = pyttsx3.init()\n",
    "voices = engine.getProperty('voices')       #getting details of current voice\n",
    "engine.setProperty('voice', voices[1].id)   #0 for male voice\n",
    "engine.setProperty('rate', 165)     # setting up new voice rate\n",
    "\n",
    "def speak(audio):\n",
    "    engine.say(audio)\n",
    "    engine.runAndWait()\n",
    "\n",
    "def wishme():\n",
    "    hour =  (datetime.datetime.now().hour)   \n",
    "    if(hour >= 0 and hour<12 ):\n",
    "        speak(\"Good Morning..!\")\n",
    "        \n",
    "    elif hour>=12 and hour<18:\n",
    "        speak(\"Good Afternoon..!\")\n",
    "\n",
    "    else:\n",
    "        speak(\"Good Eveninng..!\")\n",
    "\n",
    "    speak(\"HELLO ,I AM SIRI , HOW CAN I HELP YOU..?\")    \n",
    "\n",
    "def takecommand():\n",
    "    #It takes microphone input from the user and returns string output\n",
    "\n",
    "    r = sr.Recognizer()\n",
    "    with sr.Microphone() as source:\n",
    "        print(\"Listening...\")\n",
    "        r.pause_threshold = 1\n",
    "        audio = r.listen(source)\n",
    "\n",
    "    \n",
    "    try:\n",
    "        print(\"Recognizing...\")    \n",
    "        query = r.recognize_google(audio, language='en-in') #Using google for voice recognition.\n",
    "        print(f\"User said: {query}\\n\")  #User query will be printed.\n",
    "\n",
    "    except Exception as e:\n",
    "        # print(e)    \n",
    "        print(\"Say that again please...\")   #Say that again will be printed in case of improper voice \n",
    "        return \"None\" #None string will be returned\n",
    "    return query\n",
    "\n",
    "\n",
    "if __name__ == \"__main__\":\n",
    "    wishme()\n",
    "    takecommand()"
   ]
  }
 ],
 "metadata": {
  "kernelspec": {
   "display_name": "Python 3",
   "language": "python",
   "name": "python3"
  },
  "language_info": {
   "codemirror_mode": {
    "name": "ipython",
    "version": 3
   },
   "file_extension": ".py",
   "mimetype": "text/x-python",
   "name": "python",
   "nbconvert_exporter": "python",
   "pygments_lexer": "ipython3",
   "version": "3.9.0"
  }
 },
 "nbformat": 4,
 "nbformat_minor": 4
}
